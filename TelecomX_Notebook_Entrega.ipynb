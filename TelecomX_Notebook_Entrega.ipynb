{
 "cells": [
  {
   "cell_type": "markdown",
   "id": "fe9b70bb",
   "metadata": {},
   "source": [
    "# **TelecomX Challenge – Parte 2**\n",
    "Notebook desarrollado para el análisis de datos, preprocesamiento y modelado predictivo.\n",
    "\n",
    "Este documento incluye:\n",
    "- Exploración inicial de datos (EDA)\n",
    "- Limpieza y preprocesamiento\n",
    "- Codificación de variables categóricas\n",
    "- Entrenamiento de modelos de Machine Learning\n",
    "- Evaluación y métricas\n",
    "- Interpretabilidad de modelos\n",
    "- Exportación de resultados y modelos\n",
    "\n",
    "**Autor:** Magno Gabriel Huaromo Montañez"
   ]
  },
  {
   "cell_type": "code",
   "execution_count": 1,
   "id": "3a4cc993",
   "metadata": {},
   "outputs": [],
   "source": [
    "import pandas as pd\n",
    "import numpy as np\n",
    "import matplotlib.pyplot as plt\n",
    "import seaborn as sns\n",
    "from sklearn.model_selection import train_test_split\n",
    "from sklearn.preprocessing import StandardScaler\n",
    "from sklearn.linear_model import LogisticRegression\n",
    "from sklearn.ensemble import RandomForestClassifier\n",
    "from sklearn.metrics import classification_report, confusion_matrix\n",
    "from sklearn.feature_selection import VarianceThreshold\n",
    "import warnings\n",
    "warnings.filterwarnings('ignore')\n",
    "\n",
    "plt.style.use('seaborn-v0_8')"
   ]
  },
  {
   "cell_type": "markdown",
   "id": "972e5e3b",
   "metadata": {},
   "source": [
    "## **1. Carga de datos**"
   ]
  },
  {
   "cell_type": "code",
   "execution_count": null,
   "id": "cf55662a",
   "metadata": {},
   "outputs": [],
   "source": [
    "PATH = 'datos_challenge.csv'  # Asegúrate de colocar el archivo en el mismo directorio del notebook\n",
    "df = pd.read_csv(PATH)\n",
    "print('Dimensiones:', df.shape)\n",
    "df.head()"
   ]
  },
  {
   "cell_type": "markdown",
   "id": "758be161",
   "metadata": {},
   "source": [
    "## **2. Exploración inicial de datos (EDA)**"
   ]
  },
  {
   "cell_type": "code",
   "execution_count": null,
   "id": "ca71b2d0",
   "metadata": {},
   "outputs": [],
   "source": [
    "# Información general\n",
    "df.info()\n",
    "\n",
    "# Resumen estadístico de variables numéricas\n",
    "df.describe()"
   ]
  },
  {
   "cell_type": "code",
   "execution_count": null,
   "id": "af22a54b",
   "metadata": {},
   "outputs": [],
   "source": [
    "# Distribución de valores nulos\n",
    "df.isnull().sum().sort_values(ascending=False)"
   ]
  },
  {
   "cell_type": "markdown",
   "id": "bb1dbd8d",
   "metadata": {},
   "source": [
    "## **3. Identificación de la variable objetivo (target)**"
   ]
  },
  {
   "cell_type": "code",
   "execution_count": null,
   "id": "053a5949",
   "metadata": {},
   "outputs": [],
   "source": [
    "possible_targets = [c for c in df.columns if c.lower() in ['churn','cancel','cancelled','canceled']]\n",
    "if not possible_targets:\n",
    "    raise ValueError('No se detectó columna target')\n",
    "target_col = possible_targets[0]\n",
    "print('Variable target:', target_col)\n",
    "df[target_col].value_counts(normalize=True)"
   ]
  },
  {
   "cell_type": "markdown",
   "id": "73de0105",
   "metadata": {},
   "source": [
    "## **4. Limpieza y preprocesamiento**"
   ]
  },
  {
   "cell_type": "code",
   "execution_count": null,
   "id": "9bb3fc09",
   "metadata": {},
   "outputs": [],
   "source": [
    "# Eliminar IDs irrelevantes\n",
    "id_candidates = [c for c in df.columns if c.lower() in ['customerid','id','clientid','clienteid','custid']]\n",
    "if id_candidates:\n",
    "    df.drop(columns=id_candidates, inplace=True)\n",
    "\n",
    "# Manejo de valores nulos\n",
    "cat_cols = df.select_dtypes(include=['object','category']).columns.tolist()\n",
    "cat_cols = [c for c in cat_cols if c != target_col]\n",
    "num_cols = df.select_dtypes(include=[np.number]).columns.tolist()\n",
    "\n",
    "for c in num_cols:\n",
    "    if df[c].isnull().any():\n",
    "        df[c].fillna(df[c].median(), inplace=True)\n",
    "for c in cat_cols:\n",
    "    if df[c].isnull().any():\n",
    "        df[c].fillna('Unknown', inplace=True)\n",
    "\n",
    "# Mapear target a 0/1\n",
    "mapping = {}\n",
    "for val in df[target_col].unique():\n",
    "    if str(val).strip().lower() in ['yes','si','true','1','churn']:\n",
    "        mapping[val] = 1\n",
    "    else:\n",
    "        mapping[val] = 0\n",
    "df[target_col] = df[target_col].map(mapping).astype(int)\n",
    "df.head()"
   ]
  },
  {
   "cell_type": "markdown",
   "id": "6126a6bb",
   "metadata": {},
   "source": [
    "## **5. Reducción de categorías raras**"
   ]
  },
  {
   "cell_type": "code",
   "execution_count": null,
   "id": "aec13d6b",
   "metadata": {},
   "outputs": [],
   "source": [
    "threshold = 0.01\n",
    "for c in cat_cols:\n",
    "    vc = df[c].value_counts(normalize=True)\n",
    "    rares = vc[vc < threshold].index.tolist()\n",
    "    if rares:\n",
    "        df[c] = df[c].apply(lambda x: 'Other' if x in rares else x)"
   ]
  },
  {
   "cell_type": "markdown",
   "id": "81057d19",
   "metadata": {},
   "source": [
    "## **6. Codificación One-Hot**"
   ]
  },
  {
   "cell_type": "code",
   "execution_count": null,
   "id": "94ac8fd7",
   "metadata": {},
   "outputs": [],
   "source": [
    "X = df.drop(columns=[target_col])\n",
    "y = df[target_col]\n",
    "X_encoded = pd.get_dummies(X, columns=cat_cols, drop_first=True)\n",
    "print('Dimensiones después del encoding:', X_encoded.shape)"
   ]
  },
  {
   "cell_type": "code",
   "execution_count": null,
   "id": "f9b1faee",
   "metadata": {},
   "outputs": [],
   "source": [
    "selector = VarianceThreshold(threshold=0.0001)\n",
    "selector.fit(X_encoded)\n",
    "mask = selector.get_support()\n",
    "X_sel = X_encoded.loc[:, mask]\n",
    "print('Dimensiones después de eliminar variables constantes:', X_sel.shape)"
   ]
  },
  {
   "cell_type": "markdown",
   "id": "54ce2bca",
   "metadata": {},
   "source": [
    "## **7. División de datos en entrenamiento y prueba**"
   ]
  },
  {
   "cell_type": "code",
   "execution_count": null,
   "id": "119b3b21",
   "metadata": {},
   "outputs": [],
   "source": [
    "X_train, X_test, y_train, y_test = train_test_split(X_sel, y, test_size=0.3, random_state=42, stratify=y)\n",
    "print('Tamaño de entrenamiento:', X_train.shape)\n",
    "print('Tamaño de prueba:', X_test.shape)"
   ]
  },
  {
   "cell_type": "markdown",
   "id": "67ae995d",
   "metadata": {},
   "source": [
    "## **8. Entrenamiento de modelos**"
   ]
  },
  {
   "cell_type": "code",
   "execution_count": null,
   "id": "0f2c99b7",
   "metadata": {},
   "outputs": [],
   "source": [
    "# Escalado para regresión logística\n",
    "scaler = StandardScaler()\n",
    "X_train_scaled = scaler.fit_transform(X_train)\n",
    "X_test_scaled = scaler.transform(X_test)\n",
    "\n",
    "log_reg = LogisticRegression(max_iter=1000, class_weight='balanced')\n",
    "rf = RandomForestClassifier(n_estimators=200, random_state=42, n_jobs=-1, class_weight='balanced')\n",
    "\n",
    "log_reg.fit(X_train_scaled, y_train)\n",
    "rf.fit(X_train, y_train)"
   ]
  },
  {
   "cell_type": "markdown",
   "id": "3edd7ac3",
   "metadata": {},
   "source": [
    "## **9. Evaluación de modelos**"
   ]
  },
  {
   "cell_type": "code",
   "execution_count": null,
   "id": "d216ef64",
   "metadata": {},
   "outputs": [],
   "source": [
    "y_pred_log = log_reg.predict(X_test_scaled)\n",
    "y_pred_rf = rf.predict(X_test)\n",
    "\n",
    "print('--- Logistic Regression ---')\n",
    "print(confusion_matrix(y_test, y_pred_log))\n",
    "print(classification_report(y_test, y_pred_log))\n",
    "\n",
    "print('--- Random Forest ---')\n",
    "print(confusion_matrix(y_test, y_pred_rf))\n",
    "print(classification_report(y_test, y_pred_rf))"
   ]
  },
  {
   "cell_type": "markdown",
   "id": "59084bb2",
   "metadata": {},
   "source": [
    "## **10. Interpretación de modelos**"
   ]
  },
  {
   "cell_type": "code",
   "execution_count": null,
   "id": "188522f7",
   "metadata": {},
   "outputs": [],
   "source": [
    "rf_importances = pd.Series(rf.feature_importances_, index=X_train.columns).sort_values(ascending=False)\n",
    "rf_importances.head(10).plot(kind='barh', figsize=(8,5))\n",
    "plt.title('Top 10 variables importantes - Random Forest')\n",
    "plt.show()"
   ]
  }
 ],
 "metadata": {
  "kernelspec": {
   "display_name": "Python 3",
   "language": "python",
   "name": "python3"
  },
  "language_info": {
   "codemirror_mode": {
    "name": "ipython",
    "version": 3
   },
   "file_extension": ".py",
   "mimetype": "text/x-python",
   "name": "python",
   "nbconvert_exporter": "python",
   "pygments_lexer": "ipython3",
   "version": "3.11.5"
  }
 },
 "nbformat": 4,
 "nbformat_minor": 5
}
